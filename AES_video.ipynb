{
  "nbformat": 4,
  "nbformat_minor": 0,
  "metadata": {
    "colab": {
      "provenance": []
    },
    "kernelspec": {
      "name": "python3",
      "display_name": "Python 3"
    },
    "language_info": {
      "name": "python"
    }
  },
  "cells": [
    {
      "cell_type": "code",
      "source": [
        "from google.colab import drive\n",
        "drive.mount('/content/drive', force_remount=True)"
      ],
      "metadata": {
        "colab": {
          "base_uri": "https://localhost:8080/"
        },
        "id": "zc9pA2r30iTi",
        "outputId": "c9c554bf-12fa-49b3-9255-ec90dc9081e0"
      },
      "execution_count": null,
      "outputs": [
        {
          "output_type": "stream",
          "name": "stdout",
          "text": [
            "Mounted at /content/drive\n"
          ]
        }
      ]
    },
    {
      "cell_type": "code",
      "source": [
        "pip install pycryptodome"
      ],
      "metadata": {
        "colab": {
          "base_uri": "https://localhost:8080/"
        },
        "id": "kyPSMXwH_eQf",
        "outputId": "aeecaedf-96a8-4968-de44-e4828080ae00"
      },
      "execution_count": null,
      "outputs": [
        {
          "output_type": "stream",
          "name": "stdout",
          "text": [
            "Looking in indexes: https://pypi.org/simple, https://us-python.pkg.dev/colab-wheels/public/simple/\n",
            "Collecting pycryptodome\n",
            "  Downloading pycryptodome-3.18.0-cp35-abi3-manylinux_2_17_x86_64.manylinux2014_x86_64.whl (2.1 MB)\n",
            "\u001b[2K     \u001b[90m━━━━━━━━━━━━━━━━━━━━━━━━━━━━━━━━━━━━━━━━\u001b[0m \u001b[32m2.1/2.1 MB\u001b[0m \u001b[31m71.2 MB/s\u001b[0m eta \u001b[36m0:00:00\u001b[0m\n",
            "\u001b[?25hInstalling collected packages: pycryptodome\n",
            "Successfully installed pycryptodome-3.18.0\n"
          ]
        }
      ]
    },
    {
      "cell_type": "code",
      "source": [
        "from pydrive.auth import GoogleAuth\n",
        "from pydrive.drive import GoogleDrive\n",
        "from Crypto.Cipher import AES\n",
        "from Crypto.Util.Padding import pad, unpad\n",
        "from Crypto.Random import get_random_bytes"
      ],
      "metadata": {
        "id": "hfetyE6q0uGZ"
      },
      "execution_count": null,
      "outputs": []
    },
    {
      "cell_type": "code",
      "execution_count": null,
      "metadata": {
        "id": "UOnFFM30u-hU"
      },
      "outputs": [],
      "source": [
        "def generate_key():\n",
        "    return get_random_bytes(16)\n",
        "\n",
        "def aes_encrypt(key, data):\n",
        "    cipher = AES.new(key, AES.MODE_CBC)\n",
        "    ciphertext = cipher.encrypt(pad(data, AES.block_size))\n",
        "    return cipher.iv + ciphertext\n",
        "\n",
        "def aes_decrypt(key, ciphertext):\n",
        "    iv = ciphertext[:AES.block_size]\n",
        "    ciphertext = ciphertext[AES.block_size:]\n",
        "    cipher = AES.new(key, AES.MODE_CBC, iv)\n",
        "    plaintext = unpad(cipher.decrypt(ciphertext), AES.block_size)\n",
        "    return plaintext\n",
        "\n",
        "def encrypt_video(input_file, output_file, key):\n",
        "    with open(input_file, 'rb') as file:\n",
        "        video_data = file.read()\n",
        "\n",
        "    encrypted_data = aes_encrypt(key, video_data)\n",
        "\n",
        "    with open(output_file, 'wb') as file:\n",
        "        file.write(encrypted_data)\n",
        "\n",
        "def decrypt_video(input_file, output_file, key):\n",
        "    with open(input_file, 'rb') as file:\n",
        "        encrypted_data = file.read()\n",
        "\n",
        "    decrypted_data = aes_decrypt(key, encrypted_data)\n",
        "\n",
        "    with open(output_file, 'wb') as file:\n",
        "        file.write(decrypted_data)"
      ]
    },
    {
      "cell_type": "code",
      "source": [
        "key = generate_key()\n",
        "input_file = '/content/drive/MyDrive/CNSV/video.mp4'\n",
        "encrypted_file = '/content/drive/MyDrive/CNSV/encrypted_video.mp4'\n",
        "decrypted_file = '/content/drive/MyDrive/CNSV/decrypted_video.mp4'\n",
        "\n",
        "# Encrypt video\n",
        "encrypt_video(input_file, encrypted_file, key)\n",
        "print('Video encrypted successfully.')\n",
        "\n",
        "# Decrypt video\n",
        "decrypt_video(encrypted_file, decrypted_file, key)\n",
        "print('Video decrypted successfully.')\n"
      ],
      "metadata": {
        "colab": {
          "base_uri": "https://localhost:8080/"
        },
        "id": "ua9ztbze00nP",
        "outputId": "2714f87f-9adb-4f45-e21a-6ae0846e3cda"
      },
      "execution_count": null,
      "outputs": [
        {
          "output_type": "stream",
          "name": "stdout",
          "text": [
            "Video encrypted successfully.\n",
            "Video decrypted successfully.\n"
          ]
        }
      ]
    }
  ]
}